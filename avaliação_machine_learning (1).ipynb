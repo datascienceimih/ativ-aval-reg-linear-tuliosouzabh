{
  "nbformat": 4,
  "nbformat_minor": 0,
  "metadata": {
    "colab": {
      "name": "avaliação_machine_learning.ipynb",
      "version": "0.3.2",
      "provenance": [],
      "toc_visible": true
    },
    "kernelspec": {
      "name": "python3",
      "display_name": "Python 3"
    }
  },
  "cells": [
    {
      "metadata": {
        "id": "6O1cq0oEUXtP",
        "colab_type": "text"
      },
      "cell_type": "markdown",
      "source": [
        "# Avaliação Machine Learning - Izabela Hendrix\n",
        "\n",
        "Aluno: Túlio Vieira de Souza\n",
        "\n",
        "Este notebook foi criado para a atividade avaliativa da disciplina Machine Learning do curso Ciência de Dados da Faculdade Metododista Izabela Hendrix. \n",
        "\n",
        "A atividade consiste nos exercicios 8, 9,10, 13 e 15 do livro \"An Introduction to Stastical Learning\""
      ]
    },
    {
      "metadata": {
        "id": "PvOyYz3uVGyT",
        "colab_type": "text"
      },
      "cell_type": "markdown",
      "source": [
        "## Atividade 8"
      ]
    },
    {
      "metadata": {
        "id": "AnuMehBBVdBs",
        "colab_type": "text"
      },
      "cell_type": "markdown",
      "source": [
        "### Carregando os pacotes necessários"
      ]
    },
    {
      "metadata": {
        "id": "TJE-2b7AVgdp",
        "colab_type": "code",
        "colab": {}
      },
      "cell_type": "code",
      "source": [
        "import pandas as pd\n",
        "import statsmodels.formula.api as sms\n",
        "import matplotlib.pyplot as plt\n",
        "import numpy as np\n",
        "import seaborn  as snb\n",
        "\n",
        "%matplotlib inline"
      ],
      "execution_count": 0,
      "outputs": []
    },
    {
      "metadata": {
        "id": "tpke-O3xVOYW",
        "colab_type": "text"
      },
      "cell_type": "markdown",
      "source": [
        "### Carregando o banco de dados"
      ]
    },
    {
      "metadata": {
        "id": "0bTrPFtjVN0I",
        "colab_type": "code",
        "outputId": "ed96aa6b-d1b3-4ab7-f4fb-1c04b089d982",
        "colab": {
          "base_uri": "https://localhost:8080/",
          "height": 202
        }
      },
      "cell_type": "code",
      "source": [
        "!wget http://www-bcf.usc.edu/~gareth/ISL/Auto.csv"
      ],
      "execution_count": 1,
      "outputs": [
        {
          "output_type": "stream",
          "text": [
            "--2019-04-08 17:43:56--  http://www-bcf.usc.edu/~gareth/ISL/Auto.csv\n",
            "Resolving www-bcf.usc.edu (www-bcf.usc.edu)... 68.181.201.24\n",
            "Connecting to www-bcf.usc.edu (www-bcf.usc.edu)|68.181.201.24|:80... connected.\n",
            "HTTP request sent, awaiting response... 200 OK\n",
            "Length: 18079 (18K) [text/csv]\n",
            "Saving to: ‘Auto.csv’\n",
            "\n",
            "\rAuto.csv              0%[                    ]       0  --.-KB/s               \rAuto.csv            100%[===================>]  17.66K  --.-KB/s    in 0.1s    \n",
            "\n",
            "2019-04-08 17:43:57 (139 KB/s) - ‘Auto.csv’ saved [18079/18079]\n",
            "\n"
          ],
          "name": "stdout"
        }
      ]
    },
    {
      "metadata": {
        "id": "ECCMPw04RHv-",
        "colab_type": "code",
        "colab": {}
      },
      "cell_type": "code",
      "source": [
        "bd = pd.read_csv(\"/content/Auto.csv\")"
      ],
      "execution_count": 0,
      "outputs": []
    },
    {
      "metadata": {
        "id": "Dbp_aFLGDP2E",
        "colab_type": "code",
        "colab": {
          "base_uri": "https://localhost:8080/",
          "height": 195
        },
        "outputId": "581b2507-7e2f-486c-aaa9-7abd643e8b26"
      },
      "cell_type": "code",
      "source": [
        "bd.head(5)"
      ],
      "execution_count": 5,
      "outputs": [
        {
          "output_type": "execute_result",
          "data": {
            "text/html": [
              "<div>\n",
              "<style scoped>\n",
              "    .dataframe tbody tr th:only-of-type {\n",
              "        vertical-align: middle;\n",
              "    }\n",
              "\n",
              "    .dataframe tbody tr th {\n",
              "        vertical-align: top;\n",
              "    }\n",
              "\n",
              "    .dataframe thead th {\n",
              "        text-align: right;\n",
              "    }\n",
              "</style>\n",
              "<table border=\"1\" class=\"dataframe\">\n",
              "  <thead>\n",
              "    <tr style=\"text-align: right;\">\n",
              "      <th></th>\n",
              "      <th>mpg</th>\n",
              "      <th>cylinders</th>\n",
              "      <th>displacement</th>\n",
              "      <th>horsepower</th>\n",
              "      <th>weight</th>\n",
              "      <th>acceleration</th>\n",
              "      <th>year</th>\n",
              "      <th>origin</th>\n",
              "      <th>name</th>\n",
              "    </tr>\n",
              "  </thead>\n",
              "  <tbody>\n",
              "    <tr>\n",
              "      <th>0</th>\n",
              "      <td>18.0</td>\n",
              "      <td>8</td>\n",
              "      <td>307.0</td>\n",
              "      <td>130</td>\n",
              "      <td>3504</td>\n",
              "      <td>12.0</td>\n",
              "      <td>70</td>\n",
              "      <td>1</td>\n",
              "      <td>chevrolet chevelle malibu</td>\n",
              "    </tr>\n",
              "    <tr>\n",
              "      <th>1</th>\n",
              "      <td>15.0</td>\n",
              "      <td>8</td>\n",
              "      <td>350.0</td>\n",
              "      <td>165</td>\n",
              "      <td>3693</td>\n",
              "      <td>11.5</td>\n",
              "      <td>70</td>\n",
              "      <td>1</td>\n",
              "      <td>buick skylark 320</td>\n",
              "    </tr>\n",
              "    <tr>\n",
              "      <th>2</th>\n",
              "      <td>18.0</td>\n",
              "      <td>8</td>\n",
              "      <td>318.0</td>\n",
              "      <td>150</td>\n",
              "      <td>3436</td>\n",
              "      <td>11.0</td>\n",
              "      <td>70</td>\n",
              "      <td>1</td>\n",
              "      <td>plymouth satellite</td>\n",
              "    </tr>\n",
              "    <tr>\n",
              "      <th>3</th>\n",
              "      <td>16.0</td>\n",
              "      <td>8</td>\n",
              "      <td>304.0</td>\n",
              "      <td>150</td>\n",
              "      <td>3433</td>\n",
              "      <td>12.0</td>\n",
              "      <td>70</td>\n",
              "      <td>1</td>\n",
              "      <td>amc rebel sst</td>\n",
              "    </tr>\n",
              "    <tr>\n",
              "      <th>4</th>\n",
              "      <td>17.0</td>\n",
              "      <td>8</td>\n",
              "      <td>302.0</td>\n",
              "      <td>140</td>\n",
              "      <td>3449</td>\n",
              "      <td>10.5</td>\n",
              "      <td>70</td>\n",
              "      <td>1</td>\n",
              "      <td>ford torino</td>\n",
              "    </tr>\n",
              "  </tbody>\n",
              "</table>\n",
              "</div>"
            ],
            "text/plain": [
              "    mpg  cylinders  displacement horsepower  weight  acceleration  year  \\\n",
              "0  18.0          8         307.0        130    3504          12.0    70   \n",
              "1  15.0          8         350.0        165    3693          11.5    70   \n",
              "2  18.0          8         318.0        150    3436          11.0    70   \n",
              "3  16.0          8         304.0        150    3433          12.0    70   \n",
              "4  17.0          8         302.0        140    3449          10.5    70   \n",
              "\n",
              "   origin                       name  \n",
              "0       1  chevrolet chevelle malibu  \n",
              "1       1          buick skylark 320  \n",
              "2       1         plymouth satellite  \n",
              "3       1              amc rebel sst  \n",
              "4       1                ford torino  "
            ]
          },
          "metadata": {
            "tags": []
          },
          "execution_count": 5
        }
      ]
    },
    {
      "metadata": {
        "id": "lGsyaKPmDPwi",
        "colab_type": "code",
        "colab": {
          "base_uri": "https://localhost:8080/",
          "height": 284
        },
        "outputId": "463cacd6-eae7-41be-f22e-92d92405bfe8"
      },
      "cell_type": "code",
      "source": [
        "bd.describe()"
      ],
      "execution_count": 6,
      "outputs": [
        {
          "output_type": "execute_result",
          "data": {
            "text/html": [
              "<div>\n",
              "<style scoped>\n",
              "    .dataframe tbody tr th:only-of-type {\n",
              "        vertical-align: middle;\n",
              "    }\n",
              "\n",
              "    .dataframe tbody tr th {\n",
              "        vertical-align: top;\n",
              "    }\n",
              "\n",
              "    .dataframe thead th {\n",
              "        text-align: right;\n",
              "    }\n",
              "</style>\n",
              "<table border=\"1\" class=\"dataframe\">\n",
              "  <thead>\n",
              "    <tr style=\"text-align: right;\">\n",
              "      <th></th>\n",
              "      <th>mpg</th>\n",
              "      <th>cylinders</th>\n",
              "      <th>displacement</th>\n",
              "      <th>weight</th>\n",
              "      <th>acceleration</th>\n",
              "      <th>year</th>\n",
              "      <th>origin</th>\n",
              "    </tr>\n",
              "  </thead>\n",
              "  <tbody>\n",
              "    <tr>\n",
              "      <th>count</th>\n",
              "      <td>397.000000</td>\n",
              "      <td>397.000000</td>\n",
              "      <td>397.000000</td>\n",
              "      <td>397.000000</td>\n",
              "      <td>397.000000</td>\n",
              "      <td>397.000000</td>\n",
              "      <td>397.000000</td>\n",
              "    </tr>\n",
              "    <tr>\n",
              "      <th>mean</th>\n",
              "      <td>23.515869</td>\n",
              "      <td>5.458438</td>\n",
              "      <td>193.532746</td>\n",
              "      <td>2970.261965</td>\n",
              "      <td>15.555668</td>\n",
              "      <td>75.994962</td>\n",
              "      <td>1.574307</td>\n",
              "    </tr>\n",
              "    <tr>\n",
              "      <th>std</th>\n",
              "      <td>7.825804</td>\n",
              "      <td>1.701577</td>\n",
              "      <td>104.379583</td>\n",
              "      <td>847.904119</td>\n",
              "      <td>2.749995</td>\n",
              "      <td>3.690005</td>\n",
              "      <td>0.802549</td>\n",
              "    </tr>\n",
              "    <tr>\n",
              "      <th>min</th>\n",
              "      <td>9.000000</td>\n",
              "      <td>3.000000</td>\n",
              "      <td>68.000000</td>\n",
              "      <td>1613.000000</td>\n",
              "      <td>8.000000</td>\n",
              "      <td>70.000000</td>\n",
              "      <td>1.000000</td>\n",
              "    </tr>\n",
              "    <tr>\n",
              "      <th>25%</th>\n",
              "      <td>17.500000</td>\n",
              "      <td>4.000000</td>\n",
              "      <td>104.000000</td>\n",
              "      <td>2223.000000</td>\n",
              "      <td>13.800000</td>\n",
              "      <td>73.000000</td>\n",
              "      <td>1.000000</td>\n",
              "    </tr>\n",
              "    <tr>\n",
              "      <th>50%</th>\n",
              "      <td>23.000000</td>\n",
              "      <td>4.000000</td>\n",
              "      <td>146.000000</td>\n",
              "      <td>2800.000000</td>\n",
              "      <td>15.500000</td>\n",
              "      <td>76.000000</td>\n",
              "      <td>1.000000</td>\n",
              "    </tr>\n",
              "    <tr>\n",
              "      <th>75%</th>\n",
              "      <td>29.000000</td>\n",
              "      <td>8.000000</td>\n",
              "      <td>262.000000</td>\n",
              "      <td>3609.000000</td>\n",
              "      <td>17.100000</td>\n",
              "      <td>79.000000</td>\n",
              "      <td>2.000000</td>\n",
              "    </tr>\n",
              "    <tr>\n",
              "      <th>max</th>\n",
              "      <td>46.600000</td>\n",
              "      <td>8.000000</td>\n",
              "      <td>455.000000</td>\n",
              "      <td>5140.000000</td>\n",
              "      <td>24.800000</td>\n",
              "      <td>82.000000</td>\n",
              "      <td>3.000000</td>\n",
              "    </tr>\n",
              "  </tbody>\n",
              "</table>\n",
              "</div>"
            ],
            "text/plain": [
              "              mpg   cylinders  displacement       weight  acceleration  \\\n",
              "count  397.000000  397.000000    397.000000   397.000000    397.000000   \n",
              "mean    23.515869    5.458438    193.532746  2970.261965     15.555668   \n",
              "std      7.825804    1.701577    104.379583   847.904119      2.749995   \n",
              "min      9.000000    3.000000     68.000000  1613.000000      8.000000   \n",
              "25%     17.500000    4.000000    104.000000  2223.000000     13.800000   \n",
              "50%     23.000000    4.000000    146.000000  2800.000000     15.500000   \n",
              "75%     29.000000    8.000000    262.000000  3609.000000     17.100000   \n",
              "max     46.600000    8.000000    455.000000  5140.000000     24.800000   \n",
              "\n",
              "             year      origin  \n",
              "count  397.000000  397.000000  \n",
              "mean    75.994962    1.574307  \n",
              "std      3.690005    0.802549  \n",
              "min     70.000000    1.000000  \n",
              "25%     73.000000    1.000000  \n",
              "50%     76.000000    1.000000  \n",
              "75%     79.000000    2.000000  \n",
              "max     82.000000    3.000000  "
            ]
          },
          "metadata": {
            "tags": []
          },
          "execution_count": 6
        }
      ]
    },
    {
      "metadata": {
        "id": "v77CJ7bLJzST",
        "colab_type": "code",
        "colab": {
          "base_uri": "https://localhost:8080/",
          "height": 34
        },
        "outputId": "c1401719-3453-44eb-81f2-cd48094d089f"
      },
      "cell_type": "code",
      "source": [
        "bd.shape"
      ],
      "execution_count": 8,
      "outputs": [
        {
          "output_type": "execute_result",
          "data": {
            "text/plain": [
              "(397, 9)"
            ]
          },
          "metadata": {
            "tags": []
          },
          "execution_count": 8
        }
      ]
    },
    {
      "metadata": {
        "id": "Yk3aif9tJ3at",
        "colab_type": "code",
        "colab": {}
      },
      "cell_type": "code",
      "source": [
        "# Montando o modelo de regressão\n",
        "model = sms.ols(formula=\"mpg ~ horsepower\", data=bd).fit()\n",
        "print(model.summary())"
      ],
      "execution_count": 0,
      "outputs": []
    }
  ]
}